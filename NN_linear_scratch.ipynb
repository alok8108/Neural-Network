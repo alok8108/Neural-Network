{
  "nbformat": 4,
  "nbformat_minor": 0,
  "metadata": {
    "colab": {
      "provenance": []
    },
    "kernelspec": {
      "name": "python3",
      "display_name": "Python 3"
    },
    "language_info": {
      "name": "python"
    }
  },
  "cells": [
    {
      "cell_type": "code",
      "execution_count": 80,
      "metadata": {
        "colab": {
          "base_uri": "https://localhost:8080/",
          "height": 35
        },
        "id": "1xqNx9oq7Aq7",
        "outputId": "2b19a341-9a36-41ee-aea9-a6847b4df1da"
      },
      "outputs": [
        {
          "output_type": "execute_result",
          "data": {
            "text/plain": [
              "'2.1.0+cu121'"
            ],
            "application/vnd.google.colaboratory.intrinsic+json": {
              "type": "string"
            }
          },
          "metadata": {},
          "execution_count": 80
        }
      ],
      "source": [
        "import torch\n",
        "from torch import nn\n",
        "import matplotlib.pyplot as plt\n",
        "\n",
        "\n",
        "torch.__version__\n"
      ]
    },
    {
      "cell_type": "code",
      "source": [
        "# Data preparation and loading"
      ],
      "metadata": {
        "id": "h1Zv26R-7PNB"
      },
      "execution_count": 81,
      "outputs": []
    },
    {
      "cell_type": "code",
      "source": [
        "weight = 0.7\n",
        "bias = 0.3\n",
        "start =0\n",
        "end =1\n",
        "step =0.02\n",
        "X = torch.arange(start,end,step).unsqueeze(dim=1) #unsqueezing added extra dimension for matrix format multiplication with W\n",
        "Y= weight *X + bias\n",
        "X[:10], Y[:10],len(X),len(Y)"
      ],
      "metadata": {
        "id": "QmGJg5Ud7XwJ",
        "colab": {
          "base_uri": "https://localhost:8080/"
        },
        "outputId": "225c7713-7a11-45e4-dce9-cdffd6fadead"
      },
      "execution_count": 82,
      "outputs": [
        {
          "output_type": "execute_result",
          "data": {
            "text/plain": [
              "(tensor([[0.0000],\n",
              "         [0.0200],\n",
              "         [0.0400],\n",
              "         [0.0600],\n",
              "         [0.0800],\n",
              "         [0.1000],\n",
              "         [0.1200],\n",
              "         [0.1400],\n",
              "         [0.1600],\n",
              "         [0.1800]]),\n",
              " tensor([[0.3000],\n",
              "         [0.3140],\n",
              "         [0.3280],\n",
              "         [0.3420],\n",
              "         [0.3560],\n",
              "         [0.3700],\n",
              "         [0.3840],\n",
              "         [0.3980],\n",
              "         [0.4120],\n",
              "         [0.4260]]),\n",
              " 50,\n",
              " 50)"
            ]
          },
          "metadata": {},
          "execution_count": 82
        }
      ]
    },
    {
      "cell_type": "code",
      "source": [
        "X.shape, Y.shape"
      ],
      "metadata": {
        "colab": {
          "base_uri": "https://localhost:8080/"
        },
        "id": "xzOy8S3aJ_tT",
        "outputId": "ebfff4f6-d8d2-4985-bf19-db235dded74b"
      },
      "execution_count": 83,
      "outputs": [
        {
          "output_type": "execute_result",
          "data": {
            "text/plain": [
              "(torch.Size([50, 1]), torch.Size([50, 1]))"
            ]
          },
          "metadata": {},
          "execution_count": 83
        }
      ]
    },
    {
      "cell_type": "code",
      "source": [
        "### splitiing data into training and testing set"
      ],
      "metadata": {
        "id": "6O_7axUMKiRm"
      },
      "execution_count": 84,
      "outputs": []
    },
    {
      "cell_type": "code",
      "source": [
        "train_split= int(0.8*len(X))\n",
        "X_train, Y_train =X[:train_split], Y[:train_split]\n",
        "X_test, Y_test = X[train_split:], Y[train_split:]\n"
      ],
      "metadata": {
        "id": "1q_CVIxtKpDL"
      },
      "execution_count": 85,
      "outputs": []
    },
    {
      "cell_type": "code",
      "source": [
        "len(X_train), len(Y_train), len(X_test), len(Y_test)"
      ],
      "metadata": {
        "colab": {
          "base_uri": "https://localhost:8080/"
        },
        "id": "wqgD0JjOKq7r",
        "outputId": "37c957ef-6c0e-42b7-ca56-3195caf04ec7"
      },
      "execution_count": 86,
      "outputs": [
        {
          "output_type": "execute_result",
          "data": {
            "text/plain": [
              "(40, 40, 10, 10)"
            ]
          },
          "metadata": {},
          "execution_count": 86
        }
      ]
    },
    {
      "cell_type": "code",
      "source": [
        "X_train, Y_train"
      ],
      "metadata": {
        "colab": {
          "base_uri": "https://localhost:8080/"
        },
        "id": "FY8Sq0bkIyxT",
        "outputId": "71200ab8-05b7-41ea-b31a-12a678063e4d"
      },
      "execution_count": 87,
      "outputs": [
        {
          "output_type": "execute_result",
          "data": {
            "text/plain": [
              "(tensor([[0.0000],\n",
              "         [0.0200],\n",
              "         [0.0400],\n",
              "         [0.0600],\n",
              "         [0.0800],\n",
              "         [0.1000],\n",
              "         [0.1200],\n",
              "         [0.1400],\n",
              "         [0.1600],\n",
              "         [0.1800],\n",
              "         [0.2000],\n",
              "         [0.2200],\n",
              "         [0.2400],\n",
              "         [0.2600],\n",
              "         [0.2800],\n",
              "         [0.3000],\n",
              "         [0.3200],\n",
              "         [0.3400],\n",
              "         [0.3600],\n",
              "         [0.3800],\n",
              "         [0.4000],\n",
              "         [0.4200],\n",
              "         [0.4400],\n",
              "         [0.4600],\n",
              "         [0.4800],\n",
              "         [0.5000],\n",
              "         [0.5200],\n",
              "         [0.5400],\n",
              "         [0.5600],\n",
              "         [0.5800],\n",
              "         [0.6000],\n",
              "         [0.6200],\n",
              "         [0.6400],\n",
              "         [0.6600],\n",
              "         [0.6800],\n",
              "         [0.7000],\n",
              "         [0.7200],\n",
              "         [0.7400],\n",
              "         [0.7600],\n",
              "         [0.7800]]),\n",
              " tensor([[0.3000],\n",
              "         [0.3140],\n",
              "         [0.3280],\n",
              "         [0.3420],\n",
              "         [0.3560],\n",
              "         [0.3700],\n",
              "         [0.3840],\n",
              "         [0.3980],\n",
              "         [0.4120],\n",
              "         [0.4260],\n",
              "         [0.4400],\n",
              "         [0.4540],\n",
              "         [0.4680],\n",
              "         [0.4820],\n",
              "         [0.4960],\n",
              "         [0.5100],\n",
              "         [0.5240],\n",
              "         [0.5380],\n",
              "         [0.5520],\n",
              "         [0.5660],\n",
              "         [0.5800],\n",
              "         [0.5940],\n",
              "         [0.6080],\n",
              "         [0.6220],\n",
              "         [0.6360],\n",
              "         [0.6500],\n",
              "         [0.6640],\n",
              "         [0.6780],\n",
              "         [0.6920],\n",
              "         [0.7060],\n",
              "         [0.7200],\n",
              "         [0.7340],\n",
              "         [0.7480],\n",
              "         [0.7620],\n",
              "         [0.7760],\n",
              "         [0.7900],\n",
              "         [0.8040],\n",
              "         [0.8180],\n",
              "         [0.8320],\n",
              "         [0.8460]]))"
            ]
          },
          "metadata": {},
          "execution_count": 87
        }
      ]
    },
    {
      "cell_type": "code",
      "source": [
        "def plot_predictions(train_data=X_train,\n",
        "                     train_labels=Y_train,\n",
        "                     test_data=X_test,\n",
        "                     test_labels=Y_test,\n",
        "                     predictions=None):\n",
        "    import matplotlib.pyplot as plt\n",
        "\n",
        "    plt.figure(figsize=(10, 7))\n",
        "\n",
        "    # plot training data in blue\n",
        "    plt.scatter(train_data, train_labels, c=\"b\", s=4, label=\"Training data\")\n",
        "\n",
        "    # plot test data in green\n",
        "    plt.scatter(test_data, test_labels, c=\"g\", label=\"Testing data\")\n",
        "\n",
        "    # are there predictions?\n",
        "    if predictions is not None:\n",
        "        # plot the predictions if they exist\n",
        "        predictions_np = predictions.detach().numpy()  # Detach before converting to NumPy\n",
        "        plt.scatter(test_data, predictions_np, c=\"r\", s=4, label=\"Predictions\")\n",
        "\n",
        "    plt.legend(prop={\"size\": 14})\n",
        "    plt.show()\n",
        "\n"
      ],
      "metadata": {
        "id": "gAd185HWI8cP"
      },
      "execution_count": 88,
      "outputs": []
    },
    {
      "cell_type": "code",
      "source": [
        "plot_predictions();"
      ],
      "metadata": {
        "colab": {
          "base_uri": "https://localhost:8080/",
          "height": 461
        },
        "id": "3eYCwBi2JddV",
        "outputId": "b7be0ece-4308-46af-d37f-d52accbbd93d"
      },
      "execution_count": 89,
      "outputs": [
        {
          "output_type": "display_data",
          "data": {
            "text/plain": [
              "<Figure size 1000x700 with 1 Axes>"
            ],
            "image/png": "[encoded data removed]"
          },
          "metadata": {}
        }
      ]
    },
    {
      "cell_type": "markdown",
      "source": [
        "# Building the Model"
      ],
      "metadata": {
        "id": "iavJ7yCFMvMi"
      }
    },
    {
      "cell_type": "code",
      "source": [
        "#create a linear regression model class\n",
        "from torch import nn\n",
        "class LinearRegressionModel(nn.Module): # almost everything in PyTorch inherits from nn.module\n",
        "  def __init__(self):\n",
        "    super().__init__()\n",
        "\n",
        "    #initialize model parameters\n",
        "    self.weights = nn.Parameter(torch.randn(1, requires_grad=True,dtype=torch.float))\n",
        "    self.bias=nn.Parameter(torch.randn(1, requires_grad=True, dtype=torch.float))\n",
        "\n",
        "  #Forward  method to define the computation in the model\n",
        "  def forward(self, x:torch.tensor) -> torch.tensor : #\"x\" is the input data\n",
        "    return self.weights* x + self.bias #linear regression formula\n",
        "\n"
      ],
      "metadata": {
        "id": "6vls30ZCNWiD"
      },
      "execution_count": 90,
      "outputs": []
    },
    {
      "cell_type": "markdown",
      "source": [
        "Pytorch Model building essentials\n",
        "\n",
        "\n",
        "*torch.nn : contains all of the buildings for computational graphs/neural nw\n",
        "\n",
        "*torch.nn.Parameter : what parameters should our model try and learn, often a PyTorch layer from torch.nn will set these for us\n",
        "\n",
        "*torch.nn.Module : The ase class for all neural network modules, if you subclass it, you should overwrite forward()\n",
        "\n",
        "*torch.optime : this where the optimizers in PyTorch live, they will help with gradient descents\n",
        "\n",
        "*def forwad(): all nn.Module subclasses require to overwrite forward().\n",
        "   this method will determine what happens in forward method.\n"
      ],
      "metadata": {
        "id": "keVL7t9Yg1r3"
      }
    },
    {
      "cell_type": "code",
      "source": [
        "### checking the contents of our PyTorch model\n"
      ],
      "metadata": {
        "id": "N39pWnIBkihL"
      },
      "execution_count": 91,
      "outputs": []
    },
    {
      "cell_type": "code",
      "source": [
        "#Create a random seed\n",
        "torch.manual_seed(42)\n",
        "\n",
        "#Create an instance of the model(this is a subclass of nn.Module)\n",
        "model_0 = LinearRegressionModel()\n",
        "print(model_0)\n",
        "print(model_0.parameters())\n",
        "list(model_0.parameters())"
      ],
      "metadata": {
        "colab": {
          "base_uri": "https://localhost:8080/"
        },
        "id": "GXfKMUOclnLf",
        "outputId": "4b134382-082f-4208-a3f6-b58913200310"
      },
      "execution_count": 92,
      "outputs": [
        {
          "output_type": "stream",
          "name": "stdout",
          "text": [
            "LinearRegressionModel()\n",
            "<generator object Module.parameters at 0x790ef08176f0>\n"
          ]
        },
        {
          "output_type": "execute_result",
          "data": {
            "text/plain": [
              "[Parameter containing:\n",
              " tensor([0.3367], requires_grad=True),\n",
              " Parameter containing:\n",
              " tensor([0.1288], requires_grad=True)]"
            ]
          },
          "metadata": {},
          "execution_count": 92
        }
      ]
    },
    {
      "cell_type": "code",
      "source": [
        "#list named parameters\n",
        "model_0.state_dict()"
      ],
      "metadata": {
        "colab": {
          "base_uri": "https://localhost:8080/"
        },
        "id": "Jg0XctDKnWMj",
        "outputId": "9a46c47f-7cf8-44b5-9bed-753c8cd21d3c"
      },
      "execution_count": 93,
      "outputs": [
        {
          "output_type": "execute_result",
          "data": {
            "text/plain": [
              "OrderedDict([('weights', tensor([0.3367])), ('bias', tensor([0.1288]))])"
            ]
          },
          "metadata": {},
          "execution_count": 93
        }
      ]
    },
    {
      "cell_type": "code",
      "source": [
        "### making predictions using torch.inference_mode()\n",
        "with torch.inference_mode():\n",
        "\n",
        "  Y_preds = model_0(X_test)\n",
        "\n",
        "Y_preds\n",
        "#inference mode disables the gradient\\\n",
        "# we can also use with torch.no_grad():"
      ],
      "metadata": {
        "colab": {
          "base_uri": "https://localhost:8080/"
        },
        "id": "0-2nwFWFo5v4",
        "outputId": "d150e40b-abfe-4276-d71c-a44bbfe68f25"
      },
      "execution_count": 94,
      "outputs": [
        {
          "output_type": "execute_result",
          "data": {
            "text/plain": [
              "tensor([[0.3982],\n",
              "        [0.4049],\n",
              "        [0.4116],\n",
              "        [0.4184],\n",
              "        [0.4251],\n",
              "        [0.4318],\n",
              "        [0.4386],\n",
              "        [0.4453],\n",
              "        [0.4520],\n",
              "        [0.4588]])"
            ]
          },
          "metadata": {},
          "execution_count": 94
        }
      ]
    },
    {
      "cell_type": "code",
      "source": [
        "#prediction w/o inference_mode()\n",
        "Y_preds = model_0(X_test)\n",
        "Y_preds"
      ],
      "metadata": {
        "colab": {
          "base_uri": "https://localhost:8080/"
        },
        "id": "fERnFQAUsAH0",
        "outputId": "49952b44-869d-484f-ccb9-d075bf47ea82"
      },
      "execution_count": 95,
      "outputs": [
        {
          "output_type": "execute_result",
          "data": {
            "text/plain": [
              "tensor([[0.3982],\n",
              "        [0.4049],\n",
              "        [0.4116],\n",
              "        [0.4184],\n",
              "        [0.4251],\n",
              "        [0.4318],\n",
              "        [0.4386],\n",
              "        [0.4453],\n",
              "        [0.4520],\n",
              "        [0.4588]], grad_fn=<AddBackward0>)"
            ]
          },
          "metadata": {},
          "execution_count": 95
        }
      ]
    },
    {
      "cell_type": "code",
      "source": [
        "Y_test"
      ],
      "metadata": {
        "colab": {
          "base_uri": "https://localhost:8080/"
        },
        "id": "J6eUmaqsql5I",
        "outputId": "5010432a-b508-41e4-f98f-37d7a9c36708"
      },
      "execution_count": 96,
      "outputs": [
        {
          "output_type": "execute_result",
          "data": {
            "text/plain": [
              "tensor([[0.8600],\n",
              "        [0.8740],\n",
              "        [0.8880],\n",
              "        [0.9020],\n",
              "        [0.9160],\n",
              "        [0.9300],\n",
              "        [0.9440],\n",
              "        [0.9580],\n",
              "        [0.9720],\n",
              "        [0.9860]])"
            ]
          },
          "metadata": {},
          "execution_count": 96
        }
      ]
    },
    {
      "cell_type": "code",
      "source": [
        "plot_predictions(predictions= Y_preds)"
      ],
      "metadata": {
        "colab": {
          "base_uri": "https://localhost:8080/",
          "height": 461
        },
        "id": "gSNCy42CrVBv",
        "outputId": "1cce8fea-ddcc-45b5-e734-55ede04956ec"
      },
      "execution_count": 97,
      "outputs": [
        {
          "output_type": "display_data",
          "data": {
            "text/plain": [
              "<Figure size 1000x700 with 1 Axes>"
            ],
            "image/png": "[encoded data removed]"
          },
          "metadata": {}
        }
      ]
    },
    {
      "cell_type": "code",
      "source": [
        "#set up loss function\n",
        "loss_fn= nn.L1Loss()\n",
        "#set up an optimizer\n",
        "optimizer = torch.optim.SGD(params= model_0.parameters(), lr= 0.01 )"
      ],
      "metadata": {
        "id": "6D9MT9FNriSQ"
      },
      "execution_count": 98,
      "outputs": []
    },
    {
      "cell_type": "code",
      "source": [
        "# Builing a training & testing loop in Pytorch"
      ],
      "metadata": {
        "id": "4w-sfXY4zg6t"
      },
      "execution_count": 99,
      "outputs": []
    },
    {
      "cell_type": "markdown",
      "source": [
        "0.loop through the data\n",
        "\n",
        "1.forward pass (this involves data moving through our models forward fucntions)\n",
        "\n",
        "2.calculate the loss (compare forward path predictions to the ground truth labels)\n",
        "\n",
        "3. Optimize zero grad\n",
        "\n",
        "4. loss backward\n",
        "\n",
        "5. optimizer step use the optimizer to adjust models paramaters to try and improve the loss\n"
      ],
      "metadata": {
        "id": "Tq3zF_wF1uiX"
      }
    },
    {
      "cell_type": "code",
      "source": [
        "# an epoch is one loop through the data...(this is hyperparamater because we set it ourselves)\n",
        "epochs = 1\n",
        "\n",
        "\n",
        "#0. loop through the data\n",
        "for epoch in range(epochs):\n",
        "\n",
        "   #set the model to training mode\n",
        "   model_0.train()  #train mode in PyTorch sets all parameters that requires gradients to require gradient\n",
        "\n",
        "   #1.forward pass\n",
        "   Y_pred = model_0(X_train)\n",
        "\n",
        "   #2. calculate loss\n",
        "   loss= loss_fn(Y_pred, Y_train)\n",
        "   print(f\"loss : {loss}\")\n",
        "\n",
        "   #3. optimizer zero grad\n",
        "   optimizer.zero_grad()\n",
        "\n",
        "   #4.perform backprop on loss wrt parameters of the model\n",
        "   loss.backward()\n",
        "\n",
        "   #5. Step the optimizer(perform gradient descent)\n",
        "   optimizer.step()\n",
        "\n",
        "   #Testing\n",
        "   model_0.eval()  #turns off gradient tracking\n",
        "   print(model_0.state_dict())\n",
        "\n",
        "   ###Testing\n",
        "   model_0.eval()  #turns off different settings in model not needed for evaluation\n",
        "   with torch.inference_mode():  #turns off gradient tracking & couple of more thngs behind scenes\n",
        "    #1.Do the forward pass\n",
        "    test_pred = model_0(X_test)\n",
        "\n",
        "    #2. Calculate the loss\n",
        "    test_loss= loss_fn(test_pred, Y_test)\n",
        "\n",
        "\n",
        "  #print out whats happening\n",
        "   print(f\"Epoch: {epoch}| Loss: {loss} | Test loss: {test_loss}\")\n",
        "\n",
        "\n",
        "\n",
        "\n"
      ],
      "metadata": {
        "colab": {
          "base_uri": "https://localhost:8080/"
        },
        "id": "PC0QsldH3Kt_",
        "outputId": "cd552fa0-a781-4308-da79-7ecfff8de2f0"
      },
      "execution_count": 100,
      "outputs": [
        {
          "output_type": "stream",
          "name": "stdout",
          "text": [
            "loss : 0.31288138031959534\n",
            "OrderedDict([('weights', tensor([0.3406])), ('bias', tensor([0.1388]))])\n",
            "Epoch: 0| Loss: 0.31288138031959534 | Test loss: 0.48106518387794495\n"
          ]
        }
      ]
    },
    {
      "cell_type": "code",
      "source": [
        "model_0.state_dict()"
      ],
      "metadata": {
        "colab": {
          "base_uri": "https://localhost:8080/"
        },
        "id": "GaXsnT_M6_8E",
        "outputId": "2ed11b12-9acf-416f-bf19-6738f52cfb6a"
      },
      "execution_count": 101,
      "outputs": [
        {
          "output_type": "execute_result",
          "data": {
            "text/plain": [
              "OrderedDict([('weights', tensor([0.3406])), ('bias', tensor([0.1388]))])"
            ]
          },
          "metadata": {},
          "execution_count": 101
        }
      ]
    },
    {
      "cell_type": "code",
      "source": [
        "model_0.state_dict()"
      ],
      "metadata": {
        "colab": {
          "base_uri": "https://localhost:8080/"
        },
        "id": "cJORHG3ufRO9",
        "outputId": "2fd85040-fc9b-42ce-8d4a-8c91729d2228"
      },
      "execution_count": 102,
      "outputs": [
        {
          "output_type": "execute_result",
          "data": {
            "text/plain": [
              "OrderedDict([('weights', tensor([0.3406])), ('bias', tensor([0.1388]))])"
            ]
          },
          "metadata": {},
          "execution_count": 102
        }
      ]
    },
    {
      "cell_type": "code",
      "source": [
        "weight,bias"
      ],
      "metadata": {
        "colab": {
          "base_uri": "https://localhost:8080/"
        },
        "id": "T323uZfVfSo_",
        "outputId": "84b2c141-c8cd-41c9-ab76-b89e85625ea1"
      },
      "execution_count": 103,
      "outputs": [
        {
          "output_type": "execute_result",
          "data": {
            "text/plain": [
              "(0.7, 0.3)"
            ]
          },
          "metadata": {},
          "execution_count": 103
        }
      ]
    },
    {
      "cell_type": "code",
      "source": [
        "with torch.inference_mode():\n",
        "  Y_preds_new = model_0(X_test)\n"
      ],
      "metadata": {
        "id": "PRKur6sjfUV-"
      },
      "execution_count": 104,
      "outputs": []
    },
    {
      "cell_type": "code",
      "source": [
        "plot_predictions(predictions=Y_preds);"
      ],
      "metadata": {
        "colab": {
          "base_uri": "https://localhost:8080/",
          "height": 461
        },
        "id": "LpsSdSXmgYGM",
        "outputId": "1a3336e2-7fe9-4714-ae9e-1cf9a507fa2e"
      },
      "execution_count": 105,
      "outputs": [
        {
          "output_type": "display_data",
          "data": {
            "text/plain": [
              "<Figure size 1000x700 with 1 Axes>"
            ],
            "image/png": "[encoded data removed]"
          },
          "metadata": {}
        }
      ]
    },
    {
      "cell_type": "code",
      "source": [
        "plot_predictions(predictions=Y_preds_new);"
      ],
      "metadata": {
        "colab": {
          "base_uri": "https://localhost:8080/",
          "height": 461
        },
        "id": "2x02X6cTgeuU",
        "outputId": "f837571c-abc5-472b-ea29-4e5648102e58"
      },
      "execution_count": 106,
      "outputs": [
        {
          "output_type": "display_data",
          "data": {
            "text/plain": [
              "<Figure size 1000x700 with 1 Axes>"
            ],
            "image/png": "[encoded data removed]"
          },
          "metadata": {}
        }
      ]
    },
    {
      "cell_type": "code",
      "source": [
        "#So we moved the predictions closer."
      ],
      "metadata": {
        "id": "K-fx91NLgqrK"
      },
      "execution_count": 107,
      "outputs": []
    },
    {
      "cell_type": "markdown",
      "source": [
        "#now lets see the result with number of epochs"
      ],
      "metadata": {
        "id": "2vERNlTUg19q"
      }
    },
    {
      "cell_type": "code",
      "source": [
        "torch.manual_seed(42)\n",
        "# an epoch is one loop through the data...(this is hyperparamater because we set it ourselves)\n",
        "epochs =200\n",
        "\n",
        "#track different values\n",
        "epoch_count=[]\n",
        "loss_values =[]\n",
        "test_loss_values=[]\n",
        "\n",
        "\n",
        "#0. loop through the data\n",
        "for epoch in range(epochs):\n",
        "\n",
        "   #set the model to training mode\n",
        "   model_0.train()  #train mode in PyTorch sets all parameters that requires gradients to require gradient\n",
        "\n",
        "   #1.forward pass\n",
        "   Y_pred = model_0(X_train)\n",
        "\n",
        "   #2. calculate loss\n",
        "   loss= loss_fn(Y_pred, Y_train)\n",
        "   print(f\"loss : {loss}\")\n",
        "\n",
        "   #3. optimizer zero grad\n",
        "   optimizer.zero_grad()\n",
        "\n",
        "   #4.perform backprop on loss wrt parameters of the model\n",
        "   loss.backward()\n",
        "\n",
        "   #5. Step the optimizer(perform gradient descent)\n",
        "   optimizer.step()\n",
        "\n",
        "   #Testing\n",
        "   model_0.eval()  #turns off gradient tracking\n",
        "   print(model_0.state_dict())\n",
        "\n",
        "   ###Testing\n",
        "   model_0.eval()  #turns off different settings in model not needed for evaluation\n",
        "   with torch.inference_mode():  #turns off gradient tracking & couple of more thngs behind scenes\n",
        "    #1.Do the forward pass\n",
        "    test_pred = model_0(X_test)\n",
        "\n",
        "    #2. Calculate the loss\n",
        "    test_loss= loss_fn(test_pred, Y_test)\n",
        "\n",
        "\n",
        "  #print out whats happening\n",
        "\n",
        "   if epoch%10 ==0:\n",
        "    epoch_count.append(epoch)\n",
        "    loss_values.append(loss)\n",
        "    test_loss_values.append(test_loss)\n",
        "\n",
        "    print(f\"Epoch: {epoch}| Loss: {loss} | Test loss: {test_loss}\")\n",
        "    print(model_0.state_dict())\n",
        "\n",
        "\n",
        "\n",
        "\n",
        "\n",
        "\n"
      ],
      "metadata": {
        "colab": {
          "base_uri": "https://localhost:8080/"
        },
        "id": "jUxGvzSimg3n",
        "outputId": "1ad4c2f7-468d-488a-d29e-20a75a1fb811"
      },
      "execution_count": 108,
      "outputs": [
        {
          "output_type": "stream",
          "name": "stdout",
          "text": [
            "loss : 0.3013603389263153\n",
            "OrderedDict([('weights', tensor([0.3445])), ('bias', tensor([0.1488]))])\n",
            "Epoch: 0| Loss: 0.3013603389263153 | Test loss: 0.4675942063331604\n",
            "OrderedDict([('weights', tensor([0.3445])), ('bias', tensor([0.1488]))])\n",
            "loss : 0.28983935713768005\n",
            "OrderedDict([('weights', tensor([0.3484])), ('bias', tensor([0.1588]))])\n",
            "loss : 0.2783183455467224\n",
            "OrderedDict([('weights', tensor([0.3523])), ('bias', tensor([0.1688]))])\n",
            "loss : 0.26679736375808716\n",
            "OrderedDict([('weights', tensor([0.3562])), ('bias', tensor([0.1788]))])\n",
            "loss : 0.2552763521671295\n",
            "OrderedDict([('weights', tensor([0.3601])), ('bias', tensor([0.1888]))])\n",
            "loss : 0.24375534057617188\n",
            "OrderedDict([('weights', tensor([0.3640])), ('bias', tensor([0.1988]))])\n",
            "loss : 0.23223432898521423\n",
            "OrderedDict([('weights', tensor([0.3679])), ('bias', tensor([0.2088]))])\n",
            "loss : 0.22071333229541779\n",
            "OrderedDict([('weights', tensor([0.3718])), ('bias', tensor([0.2188]))])\n",
            "loss : 0.20919232070446014\n",
            "OrderedDict([('weights', tensor([0.3757])), ('bias', tensor([0.2288]))])\n",
            "loss : 0.1976713240146637\n",
            "OrderedDict([('weights', tensor([0.3796])), ('bias', tensor([0.2388]))])\n",
            "loss : 0.18615034222602844\n",
            "OrderedDict([('weights', tensor([0.3835])), ('bias', tensor([0.2488]))])\n",
            "Epoch: 10| Loss: 0.18615034222602844 | Test loss: 0.3328842222690582\n",
            "OrderedDict([('weights', tensor([0.3835])), ('bias', tensor([0.2488]))])\n",
            "loss : 0.1746293306350708\n",
            "OrderedDict([('weights', tensor([0.3874])), ('bias', tensor([0.2588]))])\n",
            "loss : 0.16310831904411316\n",
            "OrderedDict([('weights', tensor([0.3913])), ('bias', tensor([0.2688]))])\n",
            "loss : 0.1515873372554779\n",
            "OrderedDict([('weights', tensor([0.3952])), ('bias', tensor([0.2788]))])\n",
            "loss : 0.14006635546684265\n",
            "OrderedDict([('weights', tensor([0.3991])), ('bias', tensor([0.2888]))])\n",
            "loss : 0.1285453587770462\n",
            "OrderedDict([('weights', tensor([0.4030])), ('bias', tensor([0.2988]))])\n",
            "loss : 0.11702437698841095\n",
            "OrderedDict([('weights', tensor([0.4069])), ('bias', tensor([0.3088]))])\n",
            "loss : 0.1060912236571312\n",
            "OrderedDict([('weights', tensor([0.4108])), ('bias', tensor([0.3178]))])\n",
            "loss : 0.09681284427642822\n",
            "OrderedDict([('weights', tensor([0.4146])), ('bias', tensor([0.3258]))])\n",
            "loss : 0.08908725529909134\n",
            "OrderedDict([('weights', tensor([0.4184])), ('bias', tensor([0.3333]))])\n",
            "loss : 0.08227583020925522\n",
            "OrderedDict([('weights', tensor([0.4222])), ('bias', tensor([0.3403]))])\n",
            "Epoch: 20| Loss: 0.08227583020925522 | Test loss: 0.2069590985774994\n",
            "OrderedDict([('weights', tensor([0.4222])), ('bias', tensor([0.3403]))])\n",
            "loss : 0.07638873159885406\n",
            "OrderedDict([('weights', tensor([0.4258])), ('bias', tensor([0.3463]))])\n",
            "loss : 0.07160007208585739\n",
            "OrderedDict([('weights', tensor([0.4293])), ('bias', tensor([0.3518]))])\n",
            "loss : 0.06747635453939438\n",
            "OrderedDict([('weights', tensor([0.4328])), ('bias', tensor([0.3568]))])\n",
            "loss : 0.06395438313484192\n",
            "OrderedDict([('weights', tensor([0.4361])), ('bias', tensor([0.3613]))])\n",
            "loss : 0.06097004935145378\n",
            "OrderedDict([('weights', tensor([0.4394])), ('bias', tensor([0.3653]))])\n",
            "loss : 0.05845819041132927\n",
            "OrderedDict([('weights', tensor([0.4425])), ('bias', tensor([0.3688]))])\n",
            "loss : 0.05635259300470352\n",
            "OrderedDict([('weights', tensor([0.4455])), ('bias', tensor([0.3718]))])\n",
            "loss : 0.0545857772231102\n",
            "OrderedDict([('weights', tensor([0.4483])), ('bias', tensor([0.3743]))])\n",
            "loss : 0.053148526698350906\n",
            "OrderedDict([('weights', tensor([0.4512])), ('bias', tensor([0.3768]))])\n",
            "loss : 0.05181945487856865\n",
            "OrderedDict([('weights', tensor([0.4539])), ('bias', tensor([0.3788]))])\n",
            "Epoch: 30| Loss: 0.05181945487856865 | Test loss: 0.14023718237876892\n",
            "OrderedDict([('weights', tensor([0.4539])), ('bias', tensor([0.3788]))])\n",
            "loss : 0.05069301277399063\n",
            "OrderedDict([('weights', tensor([0.4564])), ('bias', tensor([0.3803]))])\n",
            "loss : 0.0498228520154953\n",
            "OrderedDict([('weights', tensor([0.4590])), ('bias', tensor([0.3818]))])\n",
            "loss : 0.04895269125699997\n",
            "OrderedDict([('weights', tensor([0.4615])), ('bias', tensor([0.3833]))])\n",
            "loss : 0.04819351062178612\n",
            "OrderedDict([('weights', tensor([0.4639])), ('bias', tensor([0.3843]))])\n",
            "loss : 0.047531817108392715\n",
            "OrderedDict([('weights', tensor([0.4662])), ('bias', tensor([0.3853]))])\n",
            "loss : 0.04692792519927025\n",
            "OrderedDict([('weights', tensor([0.4684])), ('bias', tensor([0.3858]))])\n",
            "loss : 0.04642331600189209\n",
            "OrderedDict([('weights', tensor([0.4706])), ('bias', tensor([0.3863]))])\n",
            "loss : 0.04591871052980423\n",
            "OrderedDict([('weights', tensor([0.4728])), ('bias', tensor([0.3868]))])\n",
            "loss : 0.04543796554207802\n",
            "OrderedDict([('weights', tensor([0.4748])), ('bias', tensor([0.3868]))])\n",
            "loss : 0.04503796249628067\n",
            "OrderedDict([('weights', tensor([0.4768])), ('bias', tensor([0.3868]))])\n",
            "Epoch: 40| Loss: 0.04503796249628067 | Test loss: 0.11182951927185059\n",
            "OrderedDict([('weights', tensor([0.4768])), ('bias', tensor([0.3868]))])\n",
            "loss : 0.04463795945048332\n",
            "OrderedDict([('weights', tensor([0.4788])), ('bias', tensor([0.3868]))])\n",
            "loss : 0.04423796385526657\n",
            "OrderedDict([('weights', tensor([0.4808])), ('bias', tensor([0.3868]))])\n",
            "loss : 0.04383796453475952\n",
            "OrderedDict([('weights', tensor([0.4828])), ('bias', tensor([0.3868]))])\n",
            "loss : 0.04343796148896217\n",
            "OrderedDict([('weights', tensor([0.4848])), ('bias', tensor([0.3868]))])\n",
            "loss : 0.043074630200862885\n",
            "OrderedDict([('weights', tensor([0.4866])), ('bias', tensor([0.3863]))])\n",
            "loss : 0.04272563382983208\n",
            "OrderedDict([('weights', tensor([0.4884])), ('bias', tensor([0.3858]))])\n",
            "loss : 0.04237663000822067\n",
            "OrderedDict([('weights', tensor([0.4902])), ('bias', tensor([0.3853]))])\n",
            "loss : 0.04202762991189957\n",
            "OrderedDict([('weights', tensor([0.4920])), ('bias', tensor([0.3848]))])\n",
            "loss : 0.04167863354086876\n",
            "OrderedDict([('weights', tensor([0.4938])), ('bias', tensor([0.3843]))])\n",
            "loss : 0.04132963344454765\n",
            "OrderedDict([('weights', tensor([0.4956])), ('bias', tensor([0.3838]))])\n",
            "Epoch: 50| Loss: 0.04132963344454765 | Test loss: 0.09809747338294983\n",
            "OrderedDict([('weights', tensor([0.4956])), ('bias', tensor([0.3838]))])\n",
            "loss : 0.04098063334822655\n",
            "OrderedDict([('weights', tensor([0.4974])), ('bias', tensor([0.3833]))])\n",
            "loss : 0.04063162952661514\n",
            "OrderedDict([('weights', tensor([0.4992])), ('bias', tensor([0.3828]))])\n",
            "loss : 0.040282636880874634\n",
            "OrderedDict([('weights', tensor([0.5010])), ('bias', tensor([0.3823]))])\n",
            "loss : 0.039933640509843826\n",
            "OrderedDict([('weights', tensor([0.5028])), ('bias', tensor([0.3818]))])\n",
            "loss : 0.03958464413881302\n",
            "OrderedDict([('weights', tensor([0.5046])), ('bias', tensor([0.3813]))])\n",
            "loss : 0.03923564404249191\n",
            "OrderedDict([('weights', tensor([0.5064])), ('bias', tensor([0.3808]))])\n",
            "loss : 0.03888664394617081\n",
            "OrderedDict([('weights', tensor([0.5082])), ('bias', tensor([0.3803]))])\n",
            "loss : 0.0385376438498497\n",
            "OrderedDict([('weights', tensor([0.5100])), ('bias', tensor([0.3798]))])\n",
            "loss : 0.03818932920694351\n",
            "OrderedDict([('weights', tensor([0.5116])), ('bias', tensor([0.3788]))])\n",
            "loss : 0.03785243630409241\n",
            "OrderedDict([('weights', tensor([0.5134])), ('bias', tensor([0.3783]))])\n",
            "Epoch: 60| Loss: 0.03785243630409241 | Test loss: 0.08776430785655975\n",
            "OrderedDict([('weights', tensor([0.5134])), ('bias', tensor([0.3783]))])\n",
            "loss : 0.0375034399330616\n",
            "OrderedDict([('weights', tensor([0.5152])), ('bias', tensor([0.3778]))])\n",
            "loss : 0.037164121866226196\n",
            "OrderedDict([('weights', tensor([0.5168])), ('bias', tensor([0.3768]))])\n",
            "loss : 0.03681822493672371\n",
            "OrderedDict([('weights', tensor([0.5186])), ('bias', tensor([0.3763]))])\n",
            "loss : 0.03647511452436447\n",
            "OrderedDict([('weights', tensor([0.5202])), ('bias', tensor([0.3753]))])\n",
            "loss : 0.03613303601741791\n",
            "OrderedDict([('weights', tensor([0.5220])), ('bias', tensor([0.3748]))])\n",
            "loss : 0.03578609973192215\n",
            "OrderedDict([('weights', tensor([0.5236])), ('bias', tensor([0.3738]))])\n",
            "loss : 0.03544783592224121\n",
            "OrderedDict([('weights', tensor([0.5254])), ('bias', tensor([0.3733]))])\n",
            "loss : 0.035098835825920105\n",
            "OrderedDict([('weights', tensor([0.5272])), ('bias', tensor([0.3728]))])\n",
            "loss : 0.03476089984178543\n",
            "OrderedDict([('weights', tensor([0.5288])), ('bias', tensor([0.3718]))])\n",
            "loss : 0.03441363573074341\n",
            "OrderedDict([('weights', tensor([0.5306])), ('bias', tensor([0.3713]))])\n",
            "Epoch: 70| Loss: 0.03441363573074341 | Test loss: 0.0794917643070221\n",
            "OrderedDict([('weights', tensor([0.5306])), ('bias', tensor([0.3713]))])\n",
            "loss : 0.03407188132405281\n",
            "OrderedDict([('weights', tensor([0.5322])), ('bias', tensor([0.3703]))])\n",
            "loss : 0.03372843936085701\n",
            "OrderedDict([('weights', tensor([0.5340])), ('bias', tensor([0.3698]))])\n",
            "loss : 0.03338287025690079\n",
            "OrderedDict([('weights', tensor([0.5355])), ('bias', tensor([0.3688]))])\n",
            "loss : 0.033043231815099716\n",
            "OrderedDict([('weights', tensor([0.5373])), ('bias', tensor([0.3683]))])\n",
            "loss : 0.03269423171877861\n",
            "OrderedDict([('weights', tensor([0.5391])), ('bias', tensor([0.3678]))])\n",
            "loss : 0.032357655465602875\n",
            "OrderedDict([('weights', tensor([0.5407])), ('bias', tensor([0.3668]))])\n",
            "loss : 0.03200903534889221\n",
            "OrderedDict([('weights', tensor([0.5425])), ('bias', tensor([0.3663]))])\n",
            "loss : 0.03166864812374115\n",
            "OrderedDict([('weights', tensor([0.5441])), ('bias', tensor([0.3653]))])\n",
            "loss : 0.03132382780313492\n",
            "OrderedDict([('weights', tensor([0.5459])), ('bias', tensor([0.3648]))])\n",
            "loss : 0.030979642644524574\n",
            "OrderedDict([('weights', tensor([0.5475])), ('bias', tensor([0.3638]))])\n",
            "Epoch: 80| Loss: 0.030979642644524574 | Test loss: 0.07190609723329544\n",
            "OrderedDict([('weights', tensor([0.5475])), ('bias', tensor([0.3638]))])\n",
            "loss : 0.030638623982667923\n",
            "OrderedDict([('weights', tensor([0.5493])), ('bias', tensor([0.3633]))])\n",
            "loss : 0.0302906334400177\n",
            "OrderedDict([('weights', tensor([0.5509])), ('bias', tensor([0.3623]))])\n",
            "loss : 0.029953425750136375\n",
            "OrderedDict([('weights', tensor([0.5527])), ('bias', tensor([0.3618]))])\n",
            "loss : 0.02960442565381527\n",
            "OrderedDict([('weights', tensor([0.5545])), ('bias', tensor([0.3613]))])\n",
            "loss : 0.029265418648719788\n",
            "OrderedDict([('weights', tensor([0.5561])), ('bias', tensor([0.3603]))])\n",
            "loss : 0.028919223695993423\n",
            "OrderedDict([('weights', tensor([0.5579])), ('bias', tensor([0.3598]))])\n",
            "loss : 0.028576409444212914\n",
            "OrderedDict([('weights', tensor([0.5595])), ('bias', tensor([0.3588]))])\n",
            "loss : 0.028234025463461876\n",
            "OrderedDict([('weights', tensor([0.5613])), ('bias', tensor([0.3583]))])\n",
            "loss : 0.02788739837706089\n",
            "OrderedDict([('weights', tensor([0.5629])), ('bias', tensor([0.3573]))])\n",
            "loss : 0.02754882536828518\n",
            "OrderedDict([('weights', tensor([0.5647])), ('bias', tensor([0.3568]))])\n",
            "Epoch: 90| Loss: 0.02754882536828518 | Test loss: 0.06363357603549957\n",
            "OrderedDict([('weights', tensor([0.5647])), ('bias', tensor([0.3568]))])\n",
            "loss : 0.027199819684028625\n",
            "OrderedDict([('weights', tensor([0.5665])), ('bias', tensor([0.3563]))])\n",
            "loss : 0.026862185448408127\n",
            "OrderedDict([('weights', tensor([0.5681])), ('bias', tensor([0.3553]))])\n",
            "loss : 0.02651461586356163\n",
            "OrderedDict([('weights', tensor([0.5699])), ('bias', tensor([0.3548]))])\n",
            "loss : 0.026173178106546402\n",
            "OrderedDict([('weights', tensor([0.5715])), ('bias', tensor([0.3538]))])\n",
            "loss : 0.025829419493675232\n",
            "OrderedDict([('weights', tensor([0.5733])), ('bias', tensor([0.3533]))])\n",
            "loss : 0.02548416517674923\n",
            "OrderedDict([('weights', tensor([0.5748])), ('bias', tensor([0.3523]))])\n",
            "loss : 0.025144213810563087\n",
            "OrderedDict([('weights', tensor([0.5766])), ('bias', tensor([0.3518]))])\n",
            "loss : 0.02479521557688713\n",
            "OrderedDict([('weights', tensor([0.5784])), ('bias', tensor([0.3513]))])\n",
            "loss : 0.024458957836031914\n",
            "OrderedDict([('weights', tensor([0.5800])), ('bias', tensor([0.3503]))])\n",
            "loss : 0.024110013619065285\n",
            "OrderedDict([('weights', tensor([0.5818])), ('bias', tensor([0.3498]))])\n",
            "Epoch: 100| Loss: 0.024110013619065285 | Test loss: 0.05536102131009102\n",
            "OrderedDict([('weights', tensor([0.5818])), ('bias', tensor([0.3498]))])\n",
            "loss : 0.02376994863152504\n",
            "OrderedDict([('weights', tensor([0.5834])), ('bias', tensor([0.3488]))])\n",
            "loss : 0.02342480979859829\n",
            "OrderedDict([('weights', tensor([0.5852])), ('bias', tensor([0.3483]))])\n",
            "loss : 0.023080935701727867\n",
            "OrderedDict([('weights', tensor([0.5868])), ('bias', tensor([0.3473]))])\n",
            "loss : 0.022739607840776443\n",
            "OrderedDict([('weights', tensor([0.5886])), ('bias', tensor([0.3468]))])\n",
            "loss : 0.022391926497220993\n",
            "OrderedDict([('weights', tensor([0.5902])), ('bias', tensor([0.3458]))])\n",
            "loss : 0.022054409608244896\n",
            "OrderedDict([('weights', tensor([0.5920])), ('bias', tensor([0.3453]))])\n",
            "loss : 0.02170540764927864\n",
            "OrderedDict([('weights', tensor([0.5938])), ('bias', tensor([0.3448]))])\n",
            "loss : 0.021366719156503677\n",
            "OrderedDict([('weights', tensor([0.5954])), ('bias', tensor([0.3438]))])\n",
            "loss : 0.021020207554101944\n",
            "OrderedDict([('weights', tensor([0.5972])), ('bias', tensor([0.3433]))])\n",
            "loss : 0.020677709951996803\n",
            "OrderedDict([('weights', tensor([0.5988])), ('bias', tensor([0.3423]))])\n",
            "Epoch: 110| Loss: 0.020677709951996803 | Test loss: 0.04777535796165466\n",
            "OrderedDict([('weights', tensor([0.5988])), ('bias', tensor([0.3423]))])\n",
            "loss : 0.02033500373363495\n",
            "OrderedDict([('weights', tensor([0.6006])), ('bias', tensor([0.3418]))])\n",
            "loss : 0.01998869702219963\n",
            "OrderedDict([('weights', tensor([0.6022])), ('bias', tensor([0.3408]))])\n",
            "loss : 0.019649803638458252\n",
            "OrderedDict([('weights', tensor([0.6040])), ('bias', tensor([0.3403]))])\n",
            "loss : 0.019300809130072594\n",
            "OrderedDict([('weights', tensor([0.6058])), ('bias', tensor([0.3398]))])\n",
            "loss : 0.018963487818837166\n",
            "OrderedDict([('weights', tensor([0.6074])), ('bias', tensor([0.3388]))])\n",
            "loss : 0.01861560344696045\n",
            "OrderedDict([('weights', tensor([0.6092])), ('bias', tensor([0.3383]))])\n",
            "loss : 0.018274478614330292\n",
            "OrderedDict([('weights', tensor([0.6108])), ('bias', tensor([0.3373]))])\n",
            "loss : 0.017930403351783752\n",
            "OrderedDict([('weights', tensor([0.6126])), ('bias', tensor([0.3368]))])\n",
            "loss : 0.01758546568453312\n",
            "OrderedDict([('weights', tensor([0.6141])), ('bias', tensor([0.3358]))])\n",
            "loss : 0.017245199531316757\n",
            "OrderedDict([('weights', tensor([0.6159])), ('bias', tensor([0.3353]))])\n",
            "Epoch: 120| Loss: 0.017245199531316757 | Test loss: 0.0395028181374073\n",
            "OrderedDict([('weights', tensor([0.6159])), ('bias', tensor([0.3353]))])\n",
            "loss : 0.016896454617381096\n",
            "OrderedDict([('weights', tensor([0.6175])), ('bias', tensor([0.3343]))])\n",
            "loss : 0.01656000316143036\n",
            "OrderedDict([('weights', tensor([0.6193])), ('bias', tensor([0.3338]))])\n",
            "loss : 0.016210997477173805\n",
            "OrderedDict([('weights', tensor([0.6211])), ('bias', tensor([0.3333]))])\n",
            "loss : 0.01587124727666378\n",
            "OrderedDict([('weights', tensor([0.6227])), ('bias', tensor([0.3323]))])\n",
            "loss : 0.015525798313319683\n",
            "OrderedDict([('weights', tensor([0.6245])), ('bias', tensor([0.3318]))])\n",
            "loss : 0.015182236209511757\n",
            "OrderedDict([('weights', tensor([0.6261])), ('bias', tensor([0.3308]))])\n",
            "loss : 0.014840595424175262\n",
            "OrderedDict([('weights', tensor([0.6279])), ('bias', tensor([0.3303]))])\n",
            "loss : 0.01449323259294033\n",
            "OrderedDict([('weights', tensor([0.6295])), ('bias', tensor([0.3293]))])\n",
            "loss : 0.014155393466353416\n",
            "OrderedDict([('weights', tensor([0.6313])), ('bias', tensor([0.3288]))])\n",
            "loss : 0.013806397095322609\n",
            "OrderedDict([('weights', tensor([0.6331])), ('bias', tensor([0.3283]))])\n",
            "Epoch: 130| Loss: 0.013806397095322609 | Test loss: 0.031230276450514793\n",
            "OrderedDict([('weights', tensor([0.6331])), ('bias', tensor([0.3283]))])\n",
            "loss : 0.013468016870319843\n",
            "OrderedDict([('weights', tensor([0.6347])), ('bias', tensor([0.3273]))])\n",
            "loss : 0.013121193274855614\n",
            "OrderedDict([('weights', tensor([0.6365])), ('bias', tensor([0.3268]))])\n",
            "loss : 0.01277900766581297\n",
            "OrderedDict([('weights', tensor([0.6381])), ('bias', tensor([0.3258]))])\n",
            "loss : 0.012435992248356342\n",
            "OrderedDict([('weights', tensor([0.6399])), ('bias', tensor([0.3253]))])\n",
            "loss : 0.01208999752998352\n",
            "OrderedDict([('weights', tensor([0.6415])), ('bias', tensor([0.3243]))])\n",
            "loss : 0.011750795878469944\n",
            "OrderedDict([('weights', tensor([0.6433])), ('bias', tensor([0.3238]))])\n",
            "loss : 0.011401787400245667\n",
            "OrderedDict([('weights', tensor([0.6451])), ('bias', tensor([0.3233]))])\n",
            "loss : 0.011064787395298481\n",
            "OrderedDict([('weights', tensor([0.6467])), ('bias', tensor([0.3223]))])\n",
            "loss : 0.010716589167714119\n",
            "OrderedDict([('weights', tensor([0.6485])), ('bias', tensor([0.3218]))])\n",
            "loss : 0.010375778190791607\n",
            "OrderedDict([('weights', tensor([0.6501])), ('bias', tensor([0.3208]))])\n",
            "Epoch: 140| Loss: 0.010375778190791607 | Test loss: 0.023644620552659035\n",
            "OrderedDict([('weights', tensor([0.6501])), ('bias', tensor([0.3208]))])\n",
            "loss : 0.010031387209892273\n",
            "OrderedDict([('weights', tensor([0.6519])), ('bias', tensor([0.3203]))])\n",
            "loss : 0.009686763398349285\n",
            "OrderedDict([('weights', tensor([0.6534])), ('bias', tensor([0.3193]))])\n",
            "loss : 0.009346187114715576\n",
            "OrderedDict([('weights', tensor([0.6552])), ('bias', tensor([0.3188]))])\n",
            "loss : 0.008997755125164986\n",
            "OrderedDict([('weights', tensor([0.6568])), ('bias', tensor([0.3178]))])\n",
            "loss : 0.008660981431603432\n",
            "OrderedDict([('weights', tensor([0.6586])), ('bias', tensor([0.3173]))])\n",
            "loss : 0.008311985060572624\n",
            "OrderedDict([('weights', tensor([0.6604])), ('bias', tensor([0.3168]))])\n",
            "loss : 0.007972544990479946\n",
            "OrderedDict([('weights', tensor([0.6620])), ('bias', tensor([0.3158]))])\n",
            "loss : 0.007626785431057215\n",
            "OrderedDict([('weights', tensor([0.6638])), ('bias', tensor([0.3153]))])\n",
            "loss : 0.0072835334576666355\n",
            "OrderedDict([('weights', tensor([0.6654])), ('bias', tensor([0.3143]))])\n",
            "loss : 0.006941580679267645\n",
            "OrderedDict([('weights', tensor([0.6672])), ('bias', tensor([0.3138]))])\n",
            "Epoch: 150| Loss: 0.006941580679267645 | Test loss: 0.0153720797970891\n",
            "OrderedDict([('weights', tensor([0.6672])), ('bias', tensor([0.3138]))])\n",
            "loss : 0.006594526115804911\n",
            "OrderedDict([('weights', tensor([0.6688])), ('bias', tensor([0.3128]))])\n",
            "loss : 0.006256377790123224\n",
            "OrderedDict([('weights', tensor([0.6706])), ('bias', tensor([0.3123]))])\n",
            "loss : 0.005907376762479544\n",
            "OrderedDict([('weights', tensor([0.6724])), ('bias', tensor([0.3118]))])\n",
            "loss : 0.005569315515458584\n",
            "OrderedDict([('weights', tensor([0.6740])), ('bias', tensor([0.3108]))])\n",
            "loss : 0.005222178064286709\n",
            "OrderedDict([('weights', tensor([0.6758])), ('bias', tensor([0.3103]))])\n",
            "loss : 0.004880306776612997\n",
            "OrderedDict([('weights', tensor([0.6774])), ('bias', tensor([0.3093]))])\n",
            "loss : 0.004536976106464863\n",
            "OrderedDict([('weights', tensor([0.6792])), ('bias', tensor([0.3088]))])\n",
            "loss : 0.00419129803776741\n",
            "OrderedDict([('weights', tensor([0.6808])), ('bias', tensor([0.3078]))])\n",
            "loss : 0.0038517764769494534\n",
            "OrderedDict([('weights', tensor([0.6826])), ('bias', tensor([0.3073]))])\n",
            "loss : 0.0035027749836444855\n",
            "OrderedDict([('weights', tensor([0.6844])), ('bias', tensor([0.3068]))])\n",
            "Epoch: 160| Loss: 0.0035027749836444855 | Test loss: 0.007099539041519165\n",
            "OrderedDict([('weights', tensor([0.6844])), ('bias', tensor([0.3068]))])\n",
            "loss : 0.0031660839449614286\n",
            "OrderedDict([('weights', tensor([0.6860])), ('bias', tensor([0.3058]))])\n",
            "loss : 0.002817571861669421\n",
            "OrderedDict([('weights', tensor([0.6878])), ('bias', tensor([0.3053]))])\n",
            "loss : 0.0024770735763013363\n",
            "OrderedDict([('weights', tensor([0.6894])), ('bias', tensor([0.3043]))])\n",
            "loss : 0.0021323717664927244\n",
            "OrderedDict([('weights', tensor([0.6912])), ('bias', tensor([0.3038]))])\n",
            "loss : 0.0017880648374557495\n",
            "OrderedDict([('weights', tensor([0.6927])), ('bias', tensor([0.3028]))])\n",
            "loss : 0.0014518328243866563\n",
            "OrderedDict([('weights', tensor([0.6947])), ('bias', tensor([0.3028]))])\n",
            "loss : 0.0011887758737429976\n",
            "OrderedDict([('weights', tensor([0.6951])), ('bias', tensor([0.2993]))])\n",
            "loss : 0.0025885067880153656\n",
            "OrderedDict([('weights', tensor([0.6990])), ('bias', tensor([0.3093]))])\n",
            "loss : 0.008932482451200485\n",
            "OrderedDict([('weights', tensor([0.6951])), ('bias', tensor([0.2993]))])\n",
            "loss : 0.0025885067880153656\n",
            "OrderedDict([('weights', tensor([0.6990])), ('bias', tensor([0.3093]))])\n",
            "Epoch: 170| Loss: 0.0025885067880153656 | Test loss: 0.008447891101241112\n",
            "OrderedDict([('weights', tensor([0.6990])), ('bias', tensor([0.3093]))])\n",
            "loss : 0.008932482451200485\n",
            "OrderedDict([('weights', tensor([0.6951])), ('bias', tensor([0.2993]))])\n",
            "loss : 0.0025885067880153656\n",
            "OrderedDict([('weights', tensor([0.6990])), ('bias', tensor([0.3093]))])\n",
            "loss : 0.008932482451200485\n",
            "OrderedDict([('weights', tensor([0.6951])), ('bias', tensor([0.2993]))])\n",
            "loss : 0.0025885067880153656\n",
            "OrderedDict([('weights', tensor([0.6990])), ('bias', tensor([0.3093]))])\n",
            "loss : 0.008932482451200485\n",
            "OrderedDict([('weights', tensor([0.6951])), ('bias', tensor([0.2993]))])\n",
            "loss : 0.0025885067880153656\n",
            "OrderedDict([('weights', tensor([0.6990])), ('bias', tensor([0.3093]))])\n",
            "loss : 0.008932482451200485\n",
            "OrderedDict([('weights', tensor([0.6951])), ('bias', tensor([0.2993]))])\n",
            "loss : 0.0025885067880153656\n",
            "OrderedDict([('weights', tensor([0.6990])), ('bias', tensor([0.3093]))])\n",
            "loss : 0.008932482451200485\n",
            "OrderedDict([('weights', tensor([0.6951])), ('bias', tensor([0.2993]))])\n",
            "loss : 0.0025885067880153656\n",
            "OrderedDict([('weights', tensor([0.6990])), ('bias', tensor([0.3093]))])\n",
            "Epoch: 180| Loss: 0.0025885067880153656 | Test loss: 0.008447891101241112\n",
            "OrderedDict([('weights', tensor([0.6990])), ('bias', tensor([0.3093]))])\n",
            "loss : 0.008932482451200485\n",
            "OrderedDict([('weights', tensor([0.6951])), ('bias', tensor([0.2993]))])\n",
            "loss : 0.0025885067880153656\n",
            "OrderedDict([('weights', tensor([0.6990])), ('bias', tensor([0.3093]))])\n",
            "loss : 0.008932482451200485\n",
            "OrderedDict([('weights', tensor([0.6951])), ('bias', tensor([0.2993]))])\n",
            "loss : 0.0025885067880153656\n",
            "OrderedDict([('weights', tensor([0.6990])), ('bias', tensor([0.3093]))])\n",
            "loss : 0.008932482451200485\n",
            "OrderedDict([('weights', tensor([0.6951])), ('bias', tensor([0.2993]))])\n",
            "loss : 0.0025885067880153656\n",
            "OrderedDict([('weights', tensor([0.6990])), ('bias', tensor([0.3093]))])\n",
            "loss : 0.008932482451200485\n",
            "OrderedDict([('weights', tensor([0.6951])), ('bias', tensor([0.2993]))])\n",
            "loss : 0.0025885067880153656\n",
            "OrderedDict([('weights', tensor([0.6990])), ('bias', tensor([0.3093]))])\n",
            "loss : 0.008932482451200485\n",
            "OrderedDict([('weights', tensor([0.6951])), ('bias', tensor([0.2993]))])\n",
            "loss : 0.0025885067880153656\n",
            "OrderedDict([('weights', tensor([0.6990])), ('bias', tensor([0.3093]))])\n",
            "Epoch: 190| Loss: 0.0025885067880153656 | Test loss: 0.008447891101241112\n",
            "OrderedDict([('weights', tensor([0.6990])), ('bias', tensor([0.3093]))])\n",
            "loss : 0.008932482451200485\n",
            "OrderedDict([('weights', tensor([0.6951])), ('bias', tensor([0.2993]))])\n",
            "loss : 0.0025885067880153656\n",
            "OrderedDict([('weights', tensor([0.6990])), ('bias', tensor([0.3093]))])\n",
            "loss : 0.008932482451200485\n",
            "OrderedDict([('weights', tensor([0.6951])), ('bias', tensor([0.2993]))])\n",
            "loss : 0.0025885067880153656\n",
            "OrderedDict([('weights', tensor([0.6990])), ('bias', tensor([0.3093]))])\n",
            "loss : 0.008932482451200485\n",
            "OrderedDict([('weights', tensor([0.6951])), ('bias', tensor([0.2993]))])\n",
            "loss : 0.0025885067880153656\n",
            "OrderedDict([('weights', tensor([0.6990])), ('bias', tensor([0.3093]))])\n",
            "loss : 0.008932482451200485\n",
            "OrderedDict([('weights', tensor([0.6951])), ('bias', tensor([0.2993]))])\n",
            "loss : 0.0025885067880153656\n",
            "OrderedDict([('weights', tensor([0.6990])), ('bias', tensor([0.3093]))])\n",
            "loss : 0.008932482451200485\n",
            "OrderedDict([('weights', tensor([0.6951])), ('bias', tensor([0.2993]))])\n"
          ]
        }
      ]
    },
    {
      "cell_type": "code",
      "source": [
        "with torch.inference_mode():\n",
        "  Y_preds_new= model_0(X_test)"
      ],
      "metadata": {
        "id": "QMi0enjCnCSq"
      },
      "execution_count": 111,
      "outputs": []
    },
    {
      "cell_type": "code",
      "source": [
        "plot_predictions(predictions=Y_preds_new);"
      ],
      "metadata": {
        "colab": {
          "base_uri": "https://localhost:8080/",
          "height": 461
        },
        "id": "E_n_eMqcnjf7",
        "outputId": "b56d1f74-6a8e-4f60-fc66-011f5b20779d"
      },
      "execution_count": 112,
      "outputs": [
        {
          "output_type": "display_data",
          "data": {
            "text/plain": [
              "<Figure size 1000x700 with 1 Axes>"
            ],
            "image/png": "[encoded data removed]"
          },
          "metadata": {}
        }
      ]
    },
    {
      "cell_type": "code",
      "source": [
        "#Now predictions are very close to the correct linear relation"
      ],
      "metadata": {
        "id": "Zr3Rc7Avn2Xw"
      },
      "execution_count": 113,
      "outputs": []
    },
    {
      "cell_type": "code",
      "source": [
        "import numpy as np\n",
        "\n",
        "#plot loss curves\n",
        "plt.plot(epoch_count, np.array(torch.tensor(loss_values).numpy()), label ='Train loss')\n",
        "plt.plot(epoch_count, np.array(torch.tensor(test_loss_values).numpy()), label='Test loss')\n",
        "plt.title(\"training & test loss curves\")\n",
        "plt.ylabel(\"loss\")\n",
        "plt.xlabel('Epochs')\n",
        "plt.legend();\n"
      ],
      "metadata": {
        "colab": {
          "base_uri": "https://localhost:8080/",
          "height": 472
        },
        "id": "kz9kjhYVn-cX",
        "outputId": "c9b8c06a-03fc-4724-b094-6ab54085b1db"
      },
      "execution_count": 114,
      "outputs": [
        {
          "output_type": "display_data",
          "data": {
            "text/plain": [
              "<Figure size 640x480 with 1 Axes>"
            ],
            "image/png": "[encoded data removed]"
          },
          "metadata": {}
        }
      ]
    },
    {
      "cell_type": "code",
      "source": [
        "#saving the model in the pytorch"
      ],
      "metadata": {
        "id": "XAoG8K-ZqsAq"
      },
      "execution_count": null,
      "outputs": []
    },
    {
      "cell_type": "code",
      "source": [],
      "metadata": {
        "id": "EBpqIS6hujcf"
      },
      "execution_count": null,
      "outputs": []
    }
  ]
}